{
 "cells": [
  {
   "cell_type": "markdown",
   "id": "8143104d",
   "metadata": {},
   "source": [
    "### Importe de librerias \n"
   ]
  },
  {
   "cell_type": "code",
   "execution_count": 1,
   "id": "b346f03b",
   "metadata": {},
   "outputs": [
    {
     "name": "stdout",
     "output_type": "stream",
     "text": [
      "Requirement already satisfied: tqdm in /home/dayana-henao/Escritorio/Discriminative-quantum-neural-networks/venv/lib/python3.12/site-packages (4.67.1)\n",
      "Requirement already satisfied: tqdm in /home/dayana-henao/Escritorio/Discriminative-quantum-neural-networks/venv/lib/python3.12/site-packages (4.67.1)\n"
     ]
    }
   ],
   "source": [
    "#Para poner la barra de progreso durante el entrenamiento \n",
    "!pip install tqdm\n",
    "import sys\n",
    "!\"{sys.executable}\" -m pip install tqdm "
   ]
  },
  {
   "cell_type": "code",
   "execution_count": 2,
   "id": "a94dda93",
   "metadata": {},
   "outputs": [],
   "source": [
    "import pennylane as qml\n",
    "import numpy as np\n",
    "from pennylane import numpy as pnp\n",
    "import matplotlib.pyplot as plt\n",
    "from tqdm import tqdm\n",
    "from sklearn.model_selection import train_test_split\n",
    "import random\n",
    "import pickle"
   ]
  },
  {
   "cell_type": "markdown",
   "id": "865aaf2f",
   "metadata": {},
   "source": [
    "### Definición del dispositivo y número de qubits"
   ]
  },
  {
   "cell_type": "markdown",
   "id": "a5f4404b",
   "metadata": {},
   "source": [
    "Un dispositivo cuántico es un objeto que representa el backend donde se ejecuta el circuito cuántico.\n",
    "\n",
    "qml.device carga un dispositivo cuántico particular.\n",
    "\n",
    "'default.qubit':un simulador de estados puros.\n",
    "\n",
    "'default.mixed':un simulador de estados mezclados."
   ]
  },
  {
   "cell_type": "code",
   "execution_count": 3,
   "id": "8c5c74e5",
   "metadata": {},
   "outputs": [],
   "source": [
    "#Definición del dispositivo cuántico\n",
    "dev = qml.device(\"default.mixed\", wires=4)"
   ]
  },
  {
   "cell_type": "markdown",
   "id": "f01ec65c",
   "metadata": {},
   "source": [
    "### Arquitectura del Circuito \n"
   ]
  },
  {
   "cell_type": "markdown",
   "id": "dda8a809",
   "metadata": {},
   "source": [
    "Un QNode es una función que contiene al circuito variacional y el dispositivo computacional en el que se ejecuta.\n",
    "\n",
    "interface=\"autograd\": le dice a PennyLane que los parámetros serán diferenciables con autograd (la librería automática de derivación)."
   ]
  },
  {
   "cell_type": "markdown",
   "id": "d09469ab",
   "metadata": {},
   "source": [
    "qml.QubitDensityMatrix requiere el estado total del sistema completo.\n",
    "\n",
    "Toma el estado base (qubits 0 y 1 en |00⟩⟨00|) y lo combina con el estado rho (en qubits 2 y 3) para formar el estado de los 4 qubits juntos.\n"
   ]
  },
  {
   "cell_type": "code",
   "execution_count": 4,
   "id": "b276076f",
   "metadata": {},
   "outputs": [],
   "source": [
    "\n",
    "@qml.qnode(dev) #Decorador para definir el circuito cuántico\n",
    "def Circuit(params, rho):\n",
    "    # Crear estado |00⟩⟨00| para qubits 0 y 1\n",
    "    base = pnp.zeros((4,4), dtype=complex)\n",
    "    base[0,0] = 1.0 # Para poner la primera entrada de la matriz en 1 y el resto en 0\n",
    "    \n",
    "    # Producto tensorial para obtener estado total de 4 qubits\n",
    "    full_state = pnp.kron(base, rho)\n",
    "    \n",
    "    # Usar en el dispositivo de 4 qubits\n",
    "    qml.QubitDensityMatrix(full_state, wires=[0, 1, 2, 3])\n",
    "    \n",
    "    qml.Rot(params[0], params[1], params[2], wires=0)\n",
    "    qml.Rot(params[3], params[4], params[5], wires=1)\n",
    "    qml.Rot(params[6], params[7], params[8], wires=2)\n",
    "    qml.Rot(params[9], params[10], params[11], wires=3)\n",
    "    \n",
    "    qml.CNOT(wires=[0, 1])\n",
    "    qml.CNOT(wires=[0, 2])\n",
    "    qml.CNOT(wires=[0, 3])\n",
    "    qml.CNOT(wires=[3, 0])\n",
    "\n",
    "    # La compuerta v1 opera si el qubit de control (0) está en |1⟩\n",
    "\n",
    "\n",
    "    qml.PauliX(wires=0)\n",
    "\n",
    "    qml.ctrl(qml.Rot(params[12], params[13], params[14], wires=1), control=0)\n",
    "    qml.ctrl(qml.Rot(params[15], params[16], params[17], wires=2), control=0)\n",
    "    qml.ctrl(qml.Rot(params[18], params[19], params[20], wires=3), control=0)\n",
    "        \n",
    "    \n",
    "    qml.ctrl(qml.CNOT(wires=[1, 2]), control=0)\n",
    "    qml.ctrl(qml.CNOT(wires=[1, 3]), control=0)\n",
    "    qml.ctrl(qml.CNOT(wires=[3, 1]), control=0)\n",
    "\n",
    "    qml.PauliX(wires=0)\n",
    "\n",
    "    # La compuerta v2 opera si el qubit de control (0) está en |0⟩\n",
    "\n",
    "\n",
    "    qml.ctrl(qml.Rot(params[21], params[22], params[23], wires=1), control=0)\n",
    "    qml.ctrl(qml.Rot(params[24], params[25], params[26], wires=2), control=0)\n",
    "    qml.ctrl(qml.Rot(params[27], params[28], params[29], wires=3), control=0)\n",
    "        \n",
    "    \n",
    "    qml.ctrl(qml.CNOT(wires=[1, 2]), control=0)\n",
    "    qml.ctrl(qml.CNOT(wires=[1, 3]), control=0)\n",
    "    qml.ctrl(qml.CNOT(wires=[3, 1]), control=0)    \n",
    "    \n",
    "    return qml.probs(wires=[0, 1]) \n",
    "\n"
   ]
  },
  {
   "cell_type": "markdown",
   "id": "4151a1fa",
   "metadata": {},
   "source": [
    "### Definición de las familias "
   ]
  },
  {
   "cell_type": "markdown",
   "id": "13bc2ecf",
   "metadata": {},
   "source": [
    "dtype= complex porque aunque las matrices se definan para parametros a y b reales, \n",
    "la evolución del sistema si puede introducir números complejos."
   ]
  },
  {
   "cell_type": "code",
   "execution_count": 5,
   "id": "1f57d8f6",
   "metadata": {},
   "outputs": [],
   "source": [
    "def ρ1(a):\n",
    "    \n",
    "    psi1 = pnp.array([np.sqrt(1 - a*a), 0.0, a, 0.0], dtype=complex)\n",
    "    rho1 = pnp.outer(psi1, psi1.conj())\n",
    "    return rho1, 1\n",
    "\n",
    "def ρ2(b):\n",
    "\n",
    "    psi2 = pnp.array([0.0, np.sqrt(1 - b*b), b, 0.0], dtype=complex)\n",
    "    psi3 = pnp.array([0.0, -np.sqrt(1 - b*b), b, 0.0], dtype=complex)\n",
    "    rho2 = 0.5 * np.outer(psi2, psi2.conj()) + 0.5 * np.outer(psi3, psi3.conj())\n",
    "\n",
    "    return rho2, 2\n",
    "    "
   ]
  },
  {
   "cell_type": "markdown",
   "id": "6537966c",
   "metadata": {},
   "source": [
    "### Conjunto de Datos de Prueba \n",
    "\n",
    "Para el caso de la distribución uniforme"
   ]
  },
  {
   "cell_type": "code",
   "execution_count": 6,
   "id": "6ee6d5d9",
   "metadata": {},
   "outputs": [],
   "source": [
    "np.random.seed(2)\n",
    "n_test = 10000\n",
    "data_test = []\n",
    "\n",
    "# Clase 1: rho1, etiqueta = 1\n",
    "a_test = np.random.uniform(0, 1, int(n_test/2))\n",
    "for a in a_test:\n",
    "    rho, label = ρ1(a)\n",
    "    data_test.append((rho, label))\n",
    "\n",
    "# Clase 2: rho2, etiqueta = 2\n",
    "b_test = np.random.uniform(0, 1, int(n_test/2))\n",
    "for b in b_test:\n",
    "    rho, label = ρ2(b)\n",
    "    data_test.append((rho, label))"
   ]
  },
  {
   "cell_type": "markdown",
   "id": "57e055d6",
   "metadata": {},
   "source": [
    "### Conjunto de Datos de Entrenamiento \n"
   ]
  },
  {
   "cell_type": "code",
   "execution_count": 7,
   "id": "ebfc314a",
   "metadata": {},
   "outputs": [],
   "source": [
    "np.random.seed(90701)\n",
    "n_samples = 20\n",
    "data = []\n",
    "\n",
    "# Familia 1 → usa ρ1(a), etiqueta = 1\n",
    "a_values = np.random.uniform(0, 1, int(n_samples/2))\n",
    "for a in a_values:\n",
    "    rho, label = ρ1(a)  # rho es matriz 4x4, label = 1\n",
    "    data.append((rho, label))\n",
    "\n",
    "# Familia 2 → usa ρ2(b), etiqueta = 2\n",
    "b_values = np.random.uniform(0, 1, int(n_samples/2))\n",
    "for b in b_values:\n",
    "    rho, label = ρ2(b)  # rho es matriz 4x4, label = 2\n",
    "    data.append((rho, label))\n",
    "\n",
    "# Mezclar y dividir: 80% entrenamiento, 20% validación\n",
    "data_train, data_val = train_test_split(data, test_size=0.2, random_state=42)"
   ]
  },
  {
   "cell_type": "markdown",
   "id": "fae9cc7e",
   "metadata": {},
   "source": [
    "### Función de Pérdida \n"
   ]
  },
  {
   "cell_type": "code",
   "execution_count": 8,
   "id": "0d4f42d5",
   "metadata": {},
   "outputs": [],
   "source": [
    "# Funciones de pérdida\n",
    "\n",
    "# Clasificación mínimo error (Probabilidad de inconclusión casi nula)\n",
    "\n",
    "alpha_err = 40  # penaliza los errores\n",
    "alpha_inc = 2 # penaliza los resultados inconclusos\n",
    "\n",
    "\n",
    "# Función de pérdida para una muestra según el label:\n",
    "# label 1: familia 1 se espera que los outcomes 00 y 10 sean correctos.\n",
    "# label 2: familia 2 se espera que el outcome 01 sea correcto.\n",
    "\n",
    "def sample_loss(params, rho, label):\n",
    "    \n",
    "    probs = Circuit(params, rho)\n",
    "    # |00> -> probs[0], |01> -> probs[1], |10> -> probs[2], |11> -> probs[3]\n",
    "    if label == 1:\n",
    "        # Familia 1 => éxito: (|00>, |10>), error: |01>, inconcluso: |11>\n",
    "        p_suc = (probs[0] + probs[2])\n",
    "        p_err = probs[1]\n",
    "        p_inc = probs[3]\n",
    "    else:\n",
    "        # Familia 2 => éxito: |01>, error: (|00>, |10>), inconcluso: |11>\n",
    "        p_suc = probs[1]\n",
    "        p_err = probs[0] + probs[2]\n",
    "        p_inc = probs[3]\n",
    "        \n",
    "    return (\n",
    "    pnp.abs(p_suc - 1.0)\n",
    "    + alpha_err * pnp.abs(p_err - 0.0)\n",
    "    + alpha_inc * pnp.abs(p_inc - 0.0)\n",
    "    )\n",
    "\n",
    "# Función global de pérdida que promedia sobre el conjunto de muestras\n",
    "\n",
    "def loss(params, samples):\n",
    "    total = pnp.array(0.0, requires_grad=True) #iniciar el acumulador del costo total,\n",
    "    #asegurar que ese acumulador soporta derivación automática, y permitir que luego PennyLane optimice los parámetros con gradientes.  \n",
    "\n",
    "    for (rho, label) in samples:\n",
    "        total = total + sample_loss(params, rho, label)\n",
    "\n",
    "    avg = total / len(samples)           \n",
    "    return avg  "
   ]
  },
  {
   "cell_type": "code",
   "execution_count": 9,
   "id": "0f127f0e",
   "metadata": {},
   "outputs": [],
   "source": [
    "def get_probabilities(params, rho, label):\n",
    "    \"\"\"Calcula las probabilidades de salida del circuito, dada la matriz de densidad.\"\"\"\n",
    "    \n",
    "    return Circuit(params, rho)\n"
   ]
  },
  {
   "cell_type": "markdown",
   "id": "8ba4f3f8",
   "metadata": {},
   "source": [
    "### Evaluación del modelo"
   ]
  },
  {
   "cell_type": "code",
   "execution_count": 10,
   "id": "8c0f2842",
   "metadata": {},
   "outputs": [],
   "source": [
    "def evaluate_model(params, samples):\n",
    "    \"\"\"Evalúa tasas promedio de éxito, error e inconcluso en cada familia.\"\"\"\n",
    "    \n",
    "    # Separar por familia\n",
    "    S1 = [rho for (rho, label) in samples if label == 1]\n",
    "    S2 = [rho for (rho, label) in samples if label == 2]\n",
    "\n",
    "    total_suc_1, total_err_1, total_inc_1 = 0, 0, 0\n",
    "    total_suc_2, total_err_2, total_inc_2 = 0, 0, 0\n",
    "\n",
    "    for rho in S1:\n",
    "        probs = get_probabilities(params, rho, 1)\n",
    "        total_suc_1 += probs[0] + probs[2]  # éxito\n",
    "        total_err_1 += probs[1]\n",
    "        total_inc_1 += probs[3]\n",
    "\n",
    "    for rho in S2:\n",
    "        probs = get_probabilities(params, rho, 2)\n",
    "        total_suc_2 += probs[1]             # éxito\n",
    "        total_err_2 += probs[0] + probs[2]\n",
    "        total_inc_2 += probs[3]\n",
    "\n",
    "    # Promedios por familia\n",
    "    n1, n2 = len(S1), len(S2)\n",
    "    suc = (total_suc_1 + total_suc_2) / (n1 + n2)\n",
    "    err = (total_err_1 + total_err_2) / (n1 + n2)\n",
    "    inc = (total_inc_1 + total_inc_2) / (n1 + n2)\n",
    "\n",
    "    return suc, err, inc\n"
   ]
  },
  {
   "cell_type": "code",
   "execution_count": 11,
   "id": "27ffd8be",
   "metadata": {},
   "outputs": [],
   "source": [
    "def get_batches(data, batch_size):\n",
    "    # Asegurar que batch_size sea al menos 1\n",
    "    batch_size = max(1, int(batch_size))\n",
    "    \n",
    "    # Mezclar los datos\n",
    "    data_shuffled = random.sample(data, len(data))\n",
    "    \n",
    "    # Crear los lotes\n",
    "    return [data_shuffled[i:i+batch_size] for i in range(0, len(data), batch_size)]\n"
   ]
  },
  {
   "cell_type": "markdown",
   "id": "0d8167c6",
   "metadata": {},
   "source": [
    "### Entrenamiento del modelo\n"
   ]
  },
  {
   "cell_type": "markdown",
   "id": "186c462c",
   "metadata": {},
   "source": [
    "params, curr_loss = opt.step_and_cost(lambda v: loss(v, data_train), params)\n",
    "\n",
    "opt: Optimizador\n",
    ".step_and_cost(...): Método que actualiza los parámetros y devuelve el valor de la función de costo\n",
    "\n",
    "\n",
    "Calcula el valor de la función de la función de costo (loss(...)) para los parámetros actuales.\n",
    "Calcula el gradiente de esa función de costo con respecto a los parámetros.\n",
    "Actualiza los parámetros en la dirección que reduce la función de costo.\n",
    "\n",
    "Devuelve:\n",
    "\n",
    "params: los nuevos parámetros después de actualizar.\n",
    "\n",
    "curr_loss: el valor actual de la función de costo.\n",
    "\n",
    "La función lambda hace que el optimizador calcule la función de costo con los parámetros v usando el conjunto de datos data_train que ya está fijado.\n",
    "\n"
   ]
  },
  {
   "cell_type": "code",
   "execution_count": 12,
   "id": "bbe3d15d",
   "metadata": {},
   "outputs": [
    {
     "name": "stderr",
     "output_type": "stream",
     "text": [
      "Entrenando:   5%|▌         | 50/1000 [2:08:27<40:15:08, 152.54s/it]"
     ]
    },
    {
     "name": "stdout",
     "output_type": "stream",
     "text": [
      "Iter  50: train_loss=6.7484, val_loss=6.9701, train_suc=0.275, train_err=0.128, train_inc=0.597 | test_suc=0.310, test_err=0.128, test_inc=0.562\n"
     ]
    },
    {
     "name": "stderr",
     "output_type": "stream",
     "text": [
      "Entrenando:  10%|█         | 100/1000 [4:15:59<37:36:02, 150.40s/it]"
     ]
    },
    {
     "name": "stdout",
     "output_type": "stream",
     "text": [
      "Iter 100: train_loss=3.7204, val_loss=3.4677, train_suc=0.275, train_err=0.036, train_inc=0.689 | test_suc=0.323, test_err=0.037, test_inc=0.639\n"
     ]
    },
    {
     "name": "stderr",
     "output_type": "stream",
     "text": [
      "Entrenando:  15%|█▌        | 150/1000 [6:27:11<37:01:35, 156.82s/it]"
     ]
    },
    {
     "name": "stdout",
     "output_type": "stream",
     "text": [
      "Iter 150: train_loss=2.2922, val_loss=2.2552, train_suc=0.283, train_err=0.006, train_inc=0.711 | test_suc=0.337, test_err=0.006, test_inc=0.656\n"
     ]
    },
    {
     "name": "stderr",
     "output_type": "stream",
     "text": [
      "Entrenando:  20%|██        | 200/1000 [8:36:55<36:23:09, 163.74s/it]"
     ]
    },
    {
     "name": "stdout",
     "output_type": "stream",
     "text": [
      "Iter 200: train_loss=0.6996, val_loss=2.0464, train_suc=0.284, train_err=0.001, train_inc=0.715 | test_suc=0.339, test_err=0.001, test_inc=0.660\n"
     ]
    },
    {
     "name": "stderr",
     "output_type": "stream",
     "text": [
      "Entrenando:  25%|██▌       | 250/1000 [10:47:16<31:54:07, 153.13s/it]"
     ]
    },
    {
     "name": "stdout",
     "output_type": "stream",
     "text": [
      "Iter 250: train_loss=2.0070, val_loss=2.0248, train_suc=0.281, train_err=0.000, train_inc=0.718 | test_suc=0.337, test_err=0.000, test_inc=0.663\n"
     ]
    },
    {
     "name": "stderr",
     "output_type": "stream",
     "text": [
      "Entrenando:  30%|███       | 300/1000 [12:54:13<29:39:04, 152.49s/it]"
     ]
    },
    {
     "name": "stdout",
     "output_type": "stream",
     "text": [
      "Iter 300: train_loss=2.1079, val_loss=2.0211, train_suc=0.280, train_err=0.000, train_inc=0.720 | test_suc=0.336, test_err=0.000, test_inc=0.664\n"
     ]
    },
    {
     "name": "stderr",
     "output_type": "stream",
     "text": [
      "Entrenando:  35%|███▌      | 350/1000 [15:01:09<27:25:32, 151.90s/it]"
     ]
    },
    {
     "name": "stdout",
     "output_type": "stream",
     "text": [
      "Iter 350: train_loss=1.7143, val_loss=2.0201, train_suc=0.280, train_err=0.000, train_inc=0.720 | test_suc=0.336, test_err=0.000, test_inc=0.664\n"
     ]
    },
    {
     "name": "stderr",
     "output_type": "stream",
     "text": [
      "Entrenando:  40%|████      | 400/1000 [17:07:55<25:25:48, 152.58s/it]"
     ]
    },
    {
     "name": "stdout",
     "output_type": "stream",
     "text": [
      "Iter 400: train_loss=1.4573, val_loss=2.0194, train_suc=0.279, train_err=0.000, train_inc=0.721 | test_suc=0.336, test_err=0.000, test_inc=0.664\n"
     ]
    },
    {
     "name": "stderr",
     "output_type": "stream",
     "text": [
      "Entrenando:  45%|████▌     | 450/1000 [19:15:26<23:05:31, 151.15s/it]"
     ]
    },
    {
     "name": "stdout",
     "output_type": "stream",
     "text": [
      "Iter 450: train_loss=2.9041, val_loss=2.0187, train_suc=0.279, train_err=0.000, train_inc=0.721 | test_suc=0.335, test_err=0.000, test_inc=0.665\n"
     ]
    },
    {
     "name": "stderr",
     "output_type": "stream",
     "text": [
      "Entrenando:  50%|█████     | 500/1000 [21:19:21<20:20:11, 146.42s/it]"
     ]
    },
    {
     "name": "stdout",
     "output_type": "stream",
     "text": [
      "Iter 500: train_loss=2.9987, val_loss=2.0186, train_suc=0.279, train_err=0.000, train_inc=0.721 | test_suc=0.335, test_err=0.000, test_inc=0.665\n"
     ]
    },
    {
     "name": "stderr",
     "output_type": "stream",
     "text": [
      "Entrenando:  55%|█████▌    | 550/1000 [23:21:15<18:16:45, 146.23s/it]"
     ]
    },
    {
     "name": "stdout",
     "output_type": "stream",
     "text": [
      "Iter 550: train_loss=1.6060, val_loss=2.0186, train_suc=0.279, train_err=0.000, train_inc=0.721 | test_suc=0.335, test_err=0.000, test_inc=0.665\n"
     ]
    },
    {
     "name": "stderr",
     "output_type": "stream",
     "text": [
      "Entrenando:  60%|██████    | 600/1000 [25:24:39<16:32:18, 148.85s/it]"
     ]
    },
    {
     "name": "stdout",
     "output_type": "stream",
     "text": [
      "Iter 600: train_loss=1.3252, val_loss=2.0185, train_suc=0.279, train_err=0.000, train_inc=0.721 | test_suc=0.335, test_err=0.000, test_inc=0.665\n"
     ]
    },
    {
     "name": "stderr",
     "output_type": "stream",
     "text": [
      "Entrenando:  65%|██████▌   | 650/1000 [27:29:37<14:24:41, 148.23s/it]"
     ]
    },
    {
     "name": "stdout",
     "output_type": "stream",
     "text": [
      "Iter 650: train_loss=2.3483, val_loss=2.0185, train_suc=0.279, train_err=0.000, train_inc=0.721 | test_suc=0.335, test_err=0.000, test_inc=0.665\n"
     ]
    },
    {
     "name": "stderr",
     "output_type": "stream",
     "text": [
      "Entrenando:  70%|███████   | 700/1000 [29:29:30<11:54:32, 142.91s/it]"
     ]
    },
    {
     "name": "stdout",
     "output_type": "stream",
     "text": [
      "Iter 700: train_loss=2.3343, val_loss=2.0185, train_suc=0.279, train_err=0.000, train_inc=0.721 | test_suc=0.335, test_err=0.000, test_inc=0.665\n"
     ]
    },
    {
     "name": "stderr",
     "output_type": "stream",
     "text": [
      "Entrenando:  75%|███████▌  | 750/1000 [31:29:16<10:06:51, 145.65s/it]"
     ]
    },
    {
     "name": "stdout",
     "output_type": "stream",
     "text": [
      "Iter 750: train_loss=2.1423, val_loss=2.0185, train_suc=0.278, train_err=0.000, train_inc=0.721 | test_suc=0.335, test_err=0.000, test_inc=0.665\n"
     ]
    },
    {
     "name": "stderr",
     "output_type": "stream",
     "text": [
      "Entrenando:  80%|████████  | 800/1000 [33:27:22<7:43:27, 139.04s/it] "
     ]
    },
    {
     "name": "stdout",
     "output_type": "stream",
     "text": [
      "Iter 800: train_loss=2.1620, val_loss=2.0185, train_suc=0.278, train_err=0.000, train_inc=0.722 | test_suc=0.335, test_err=0.000, test_inc=0.665\n"
     ]
    },
    {
     "name": "stderr",
     "output_type": "stream",
     "text": [
      "Entrenando:  85%|████████▌ | 850/1000 [35:22:12<5:40:26, 136.18s/it]"
     ]
    },
    {
     "name": "stdout",
     "output_type": "stream",
     "text": [
      "Iter 850: train_loss=0.8192, val_loss=2.0185, train_suc=0.278, train_err=0.000, train_inc=0.722 | test_suc=0.335, test_err=0.000, test_inc=0.665\n"
     ]
    },
    {
     "name": "stderr",
     "output_type": "stream",
     "text": [
      "Entrenando:  88%|████████▊ | 883/1000 [36:36:59<4:51:06, 149.29s/it]"
     ]
    },
    {
     "name": "stdout",
     "output_type": "stream",
     "text": [
      "⏹️ Early stopping en iteración 884. Mejor pérdida de validación: 2.018500\n",
      "\n",
      "Parámetros entrenados:\n",
      "[4.31855290e+00 3.14096855e+00 7.09963197e+00 1.89700983e+00\n",
      " 4.71238898e+00 2.62624496e+00 1.38996603e+00 4.70383216e+00\n",
      " 6.32423280e+00 6.07617426e+00 3.14159265e+00 3.00361123e+00\n",
      " 4.86821373e+00 9.74832582e-01 5.87735659e+00 1.59070093e+00\n",
      " 3.73099925e+00 4.18733444e+00 2.33208591e+00 7.24962444e-04\n",
      " 6.40794471e-01 4.94193489e+00 5.51005211e+00 1.22157751e+00\n",
      " 3.99077414e+00 2.63810714e+00 1.66854755e+00 3.99121815e+00\n",
      " 3.14272615e+00 2.02552407e+00]\n",
      "\n",
      "Resultados finales en el conjunto de prueba:\n",
      "  Éxito promedio     = 0.3348\n",
      "  Error promedio     = 0.0000\n",
      "  Inconcluso promedio = 0.6652\n"
     ]
    },
    {
     "name": "stderr",
     "output_type": "stream",
     "text": [
      "\n"
     ]
    }
   ],
   "source": [
    "opt = qml.AdamOptimizer(stepsize=0.01)\n",
    "n_iter = 1000\n",
    "batch_size = int(len(data_train)*0.2)\n",
    "val_batch_size=int(0.2*batch_size)\n",
    "\n",
    "initial_params = np.random.uniform(0, 2 * np.pi, 30)\n",
    "params = pnp.array(initial_params, requires_grad=True)\n",
    "\n",
    "# Early stopping\n",
    "patience = 100\n",
    "min_delta = 1e-6\n",
    "best_val_loss = float('inf')\n",
    "patience_counter = 0\n",
    "\n",
    "# Historiales\n",
    "loss_history = []\n",
    "val_loss_history = []\n",
    "train_suc_history = []\n",
    "train_err_history = []\n",
    "train_inc_history = []\n",
    "test_suc_history = []\n",
    "test_err_history = []\n",
    "test_inc_history = []\n",
    "\n",
    "for it in tqdm(range(n_iter), desc=\"Entrenando\"):\n",
    "    \n",
    "    # Seleccionar un batch aleatorio de data_train\n",
    "    batch = random.sample(data_train, batch_size)\n",
    "    \n",
    "    # Paso de entrenamiento con el batch\n",
    "    params, train_loss = opt.step_and_cost(lambda v: loss(v, batch), params)\n",
    "    \n",
    "    # Evaluación en validación\n",
    "    val_batches = get_batches(data_val, val_batch_size)\n",
    "    val_loss = 0\n",
    "    for vb in val_batches:\n",
    "        val_loss += loss(params, vb) * len(vb)\n",
    "    val_loss /= len(data_val)\n",
    "\n",
    "\n",
    "\n",
    "\n",
    "    # Early stopping\n",
    "    if best_val_loss - val_loss > min_delta:\n",
    "        best_val_loss = val_loss\n",
    "        patience_counter = 0\n",
    "    else:\n",
    "        patience_counter += 1\n",
    "\n",
    "    if patience_counter >= patience:\n",
    "        print(f\"⏹️ Early stopping en iteración {it+1}. Mejor pérdida de validación: {best_val_loss:.6f}\")\n",
    "        break\n",
    "\n",
    "    # Evaluación en train y test\n",
    "    suc_train, err_train, inc_train = evaluate_model(params, data_train)\n",
    "    suc_test, err_test, inc_test = evaluate_model(params, data_test)\n",
    "\n",
    "    # Guardar métricas\n",
    "    loss_history.append(train_loss)\n",
    "    val_loss_history.append(val_loss)\n",
    "    train_suc_history.append(suc_train)\n",
    "    train_err_history.append(err_train)\n",
    "    train_inc_history.append(inc_train)\n",
    "    test_suc_history.append(suc_test)\n",
    "    test_err_history.append(err_test)\n",
    "    test_inc_history.append(inc_test)\n",
    "\n",
    "    if (it + 1) % 50 == 0:\n",
    "        print(f\"Iter {it+1:3d}: train_loss={train_loss:.4f}, val_loss={val_loss:.4f}, \"\n",
    "              f\"train_suc={suc_train:.3f}, train_err={err_train:.3f}, train_inc={inc_train:.3f} | \"\n",
    "              f\"test_suc={suc_test:.3f}, test_err={err_test:.3f}, test_inc={inc_test:.3f}\")\n",
    "\n",
    "# Final\n",
    "print(\"\\nParámetros entrenados:\")\n",
    "print(params)\n",
    "\n",
    "print(\"\\nResultados finales en el conjunto de prueba:\")\n",
    "print(f\"  Éxito promedio     = {suc_test:.4f}\")\n",
    "print(f\"  Error promedio     = {err_test:.4f}\")\n",
    "print(f\"  Inconcluso promedio = {inc_test:.4f}\")\n",
    "\n",
    "\n"
   ]
  },
  {
   "cell_type": "code",
   "execution_count": 13,
   "id": "6e02ca82",
   "metadata": {},
   "outputs": [
    {
     "data": {
      "image/png": "[encoded data removed]",
      "text/plain": [
       "<Figure size 1200x500 with 2 Axes>"
      ]
     },
     "metadata": {},
     "output_type": "display_data"
    },
    {
     "data": {
      "image/png": "[encoded data removed]",
      "text/plain": [
       "<Figure size 600x500 with 1 Axes>"
      ]
     },
     "metadata": {},
     "output_type": "display_data"
    }
   ],
   "source": [
    "# Visualización de los resultados\n",
    "plt.figure(figsize=(12,5))\n",
    "\n",
    "# Evolución de la pérdida\n",
    "plt.subplot(1,2,1)\n",
    "plt.plot(range(1, it+1), loss_history, '.-', label=\"Training loss\")\n",
    "plt.plot(range(1, it+1), val_loss_history, '.-', label=\"validation loss\")\n",
    "plt.xlabel(\"Iteración\")\n",
    "plt.ylabel(\"Pérdida (loss)\")\n",
    "plt.title(\"Evolución de la pérdida durante el entrenamiento\")\n",
    "plt.grid()\n",
    "plt.legend()\n",
    "\n",
    "# Éxito, Error e Inconcluso en train\n",
    "plt.subplot(1,2,2)\n",
    "plt.plot(range(1, it+1), train_suc_history, '.-', label=\"Éxito (train)\")\n",
    "plt.plot(range(1, it+1), train_err_history, '.-', label=\"Error (train)\")\n",
    "plt.plot(range(1, it+1), train_inc_history, '.-', label=\"Inconcluso (train)\")\n",
    "plt.xlabel(\"Iteración\")\n",
    "plt.ylabel(\"Probabilidad promedio\")\n",
    "plt.title(\"Tasas en el conjunto de entrenamiento\")\n",
    "plt.grid()\n",
    "plt.legend()\n",
    "\n",
    "plt.tight_layout()\n",
    "plt.show()\n",
    "\n",
    "# Figura para test\n",
    "plt.figure(figsize=(6,5))\n",
    "\n",
    "# Éxito, Error e Inconcluso en test\n",
    "plt.plot(range(1, it+1), test_suc_history, '.-', label=\"Éxito (test)\")\n",
    "plt.plot(range(1, it+1), test_err_history, '.-', label=\"Error (test)\")\n",
    "plt.plot(range(1, it+1), test_inc_history, '.-', label=\"Inconcluso (test)\")\n",
    "plt.xlabel(\"Iteración\")\n",
    "plt.ylabel(\"Probabilidad promedio\")\n",
    "plt.title(\"Tasas en el conjunto de prueba\")\n",
    "plt.grid()\n",
    "plt.legend()\n",
    "\n",
    "plt.tight_layout()\n",
    "plt.show()"
   ]
  },
  {
   "cell_type": "code",
   "execution_count": 14,
   "id": "6697266d",
   "metadata": {},
   "outputs": [
    {
     "data": {
      "image/png": "[encoded data removed]",
      "text/plain": [
       "<Figure size 640x480 with 2 Axes>"
      ]
     },
     "metadata": {},
     "output_type": "display_data"
    }
   ],
   "source": [
    "#Matriz de confusión\n",
    "\n",
    "def predict_label(params, val, actual_label):\n",
    "    \"\"\"\n",
    "    Devuelve la predicción discreta:\n",
    "      1 => familia 1\n",
    "      2 => familia 2\n",
    "      3 => inconcluso\n",
    "\n",
    "\n",
    "    actual_label se usa para saber qué outcome corresponde a éxito o error.\n",
    "    \"\"\"\n",
    "    probs = get_probabilities(params, val, actual_label)\n",
    "\n",
    "    p_fam1 = probs[0] + probs[2]\n",
    "    p_fam2 = probs[1]\n",
    "    p_inc  = probs[3]\n",
    "\n",
    "    # Tomamos la mayor de las tres\n",
    "    idx = np.argmax([p_fam1, p_fam2, p_inc])\n",
    "    predicted = [1, 2, 3][idx]  # 1=fam1, 2=fam2, 3=inconcluso\n",
    "    return predicted\n",
    "\n",
    "def confusion_matrix_inconclusive(params, samples):\n",
    "\n",
    "    cm = np.zeros((2, 3))\n",
    "    for (val, actual_label) in samples:\n",
    "        pred = predict_label(params, val, actual_label)\n",
    "        row = actual_label - 1  # (1->0, 2->1)\n",
    "        col = pred - 1          # (1->0, 2->1, 3->2)\n",
    "        cm[row, col] += 1\n",
    "    return cm\n",
    "\n",
    "def plot_confusion_matrix_inconclusive(cm, normalize=False):\n",
    "    \"\"\"\n",
    "    Dibuja la matriz\n",
    "    \"\"\"\n",
    "    cm_display = cm.copy()\n",
    "    if normalize:\n",
    "        for i in range(cm_display.shape[0]):\n",
    "            row_sum = np.sum(cm_display[i, :])\n",
    "            if row_sum > 0:\n",
    "                cm_display[i, :] /= row_sum\n",
    "\n",
    "\n",
    "    fig, ax = plt.subplots()\n",
    "    im = ax.imshow(cm_display, cmap='Blues', origin='upper')\n",
    "\n",
    "    # Etiquetas de ejes\n",
    "    ax.set_xticks([0,1,2])\n",
    "    ax.set_yticks([0,1])\n",
    "    ax.set_xticklabels([\"Pred:F1\",\"Pred:F2\",\"Pred:Inc\"])\n",
    "    ax.set_yticklabels([\"Real:F1\",\"Real:F2\"])\n",
    "\n",
    "    # Texto en cada celda\n",
    "    for i in range(2):\n",
    "        for j in range(3):\n",
    "            val = cm_display[i, j]\n",
    "            if normalize:\n",
    "                txt = f\"{val*100:.1f}%\"\n",
    "            else:\n",
    "                txt = f\"{val:.0f}\"\n",
    "            ax.text(j, i, txt, ha='center', va='center', color='black')\n",
    "\n",
    "    plt.colorbar(im, ax=ax)\n",
    "    plt.title(\"Matriz de confusión\")\n",
    "    plt.show()\n",
    "\n",
    "\n",
    "cm_test = confusion_matrix_inconclusive(params, data_test)\n",
    "plot_confusion_matrix_inconclusive(cm_test, normalize=False)\n"
   ]
  }
 ],
 "metadata": {
  "kernelspec": {
   "display_name": "venv",
   "language": "python",
   "name": "python3"
  },
  "language_info": {
   "codemirror_mode": {
    "name": "ipython",
    "version": 3
   },
   "file_extension": ".py",
   "mimetype": "text/x-python",
   "name": "python",
   "nbconvert_exporter": "python",
   "pygments_lexer": "ipython3",
   "version": "3.12.3"
  }
 },
 "nbformat": 4,
 "nbformat_minor": 5
}
